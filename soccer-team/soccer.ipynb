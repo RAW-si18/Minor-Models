{
 "cells": [
  {
   "cell_type": "code",
   "execution_count": 2,
   "metadata": {},
   "outputs": [
    {
     "name": "stderr",
     "output_type": "stream",
     "text": [
      "Cloning into 'ml-agents'...\n",
      "Updating files:  38% (861/2215)\n",
      "Updating files:  39% (864/2215)\n",
      "Updating files:  40% (886/2215)\n",
      "Updating files:  41% (909/2215)\n",
      "Updating files:  42% (931/2215)\n",
      "Updating files:  43% (953/2215)\n",
      "Updating files:  44% (975/2215)\n",
      "Updating files:  45% (997/2215)\n",
      "Updating files:  46% (1019/2215)\n",
      "Updating files:  47% (1042/2215)\n",
      "Updating files:  48% (1064/2215)\n",
      "Updating files:  49% (1086/2215)\n",
      "Updating files:  50% (1108/2215)\n",
      "Updating files:  51% (1130/2215)\n",
      "Updating files:  52% (1152/2215)\n",
      "Updating files:  53% (1174/2215)\n",
      "Updating files:  54% (1197/2215)\n",
      "Updating files:  55% (1219/2215)\n",
      "Updating files:  56% (1241/2215)\n",
      "Updating files:  57% (1263/2215)\n",
      "Updating files:  58% (1285/2215)\n",
      "Updating files:  59% (1307/2215)\n",
      "Updating files:  59% (1322/2215)\n",
      "Updating files:  60% (1329/2215)\n",
      "Updating files:  61% (1352/2215)\n",
      "Updating files:  62% (1374/2215)\n",
      "Updating files:  63% (1396/2215)\n",
      "Updating files:  64% (1418/2215)\n",
      "Updating files:  65% (1440/2215)\n",
      "Updating files:  66% (1462/2215)\n",
      "Updating files:  67% (1485/2215)\n",
      "Updating files:  68% (1507/2215)\n",
      "Updating files:  69% (1529/2215)\n",
      "Updating files:  70% (1551/2215)\n",
      "Updating files:  71% (1573/2215)\n",
      "Updating files:  72% (1595/2215)\n",
      "Updating files:  73% (1617/2215)\n",
      "Updating files:  74% (1640/2215)\n",
      "Updating files:  75% (1662/2215)\n",
      "Updating files:  76% (1684/2215)\n",
      "Updating files:  77% (1706/2215)\n",
      "Updating files:  78% (1728/2215)\n",
      "Updating files:  79% (1750/2215)\n",
      "Updating files:  80% (1772/2215)\n",
      "Updating files:  81% (1795/2215)\n",
      "Updating files:  82% (1817/2215)\n",
      "Updating files:  83% (1839/2215)\n",
      "Updating files:  84% (1861/2215)\n",
      "Updating files:  85% (1883/2215)\n",
      "Updating files:  86% (1905/2215)\n",
      "Updating files:  86% (1912/2215)\n",
      "Updating files:  87% (1928/2215)\n",
      "Updating files:  88% (1950/2215)\n",
      "Updating files:  89% (1972/2215)\n",
      "Updating files:  90% (1994/2215)\n",
      "Updating files:  91% (2016/2215)\n",
      "Updating files:  92% (2038/2215)\n",
      "Updating files:  93% (2060/2215)\n",
      "Updating files:  94% (2083/2215)\n",
      "Updating files:  95% (2105/2215)\n",
      "Updating files:  96% (2127/2215)\n",
      "Updating files:  97% (2149/2215)\n",
      "Updating files:  98% (2171/2215)\n",
      "Updating files:  99% (2193/2215)\n",
      "Updating files: 100% (2215/2215)\n",
      "Updating files: 100% (2215/2215), done.\n"
     ]
    }
   ],
   "source": [
    "!git clone https://github.com/Unity-Technologies/ml-agents"
   ]
  },
  {
   "cell_type": "code",
   "execution_count": 3,
   "metadata": {},
   "outputs": [
    {
     "name": "stderr",
     "output_type": "stream",
     "text": [
      "ERROR: ./ml-agents-envs is not a valid editable requirement. It should either be a path to a local project or a VCS URL (beginning with bzr+http, bzr+https, bzr+ssh, bzr+sftp, bzr+ftp, bzr+lp, bzr+file, git+http, git+https, git+ssh, git+git, git+file, hg+file, hg+http, hg+https, hg+ssh, hg+static-http, svn+ssh, svn+http, svn+https, svn+svn, svn+file).\n"
     ]
    },
    {
     "name": "stdout",
     "output_type": "stream",
     "text": [
      "Obtaining file:///H:/RAW%20Projects/soccer-team/ml-agents\n"
     ]
    },
    {
     "name": "stderr",
     "output_type": "stream",
     "text": [
      "ERROR: file:///H:/RAW%20Projects/soccer-team/ml-agents does not appear to be a Python project: neither 'setup.py' nor 'pyproject.toml' found.\n"
     ]
    }
   ],
   "source": [
    "!cd ml-agents\n",
    "!pip install -e ./ml-agents-envs\n",
    "!pip install -e ./ml-agents"
   ]
  },
  {
   "cell_type": "code",
   "execution_count": 4,
   "metadata": {},
   "outputs": [],
   "source": [
    "!conda install grpcio"
   ]
  },
  {
   "cell_type": "code",
   "execution_count": null,
   "metadata": {},
   "outputs": [],
   "source": [
    "!mlagents-learn ./config/poca/SoccerTwos.yaml --env=./training-envs-executables/SoccerTwos.exe --run-id=\"SoccerTwos\" --no-graphics"
   ]
  },
  {
   "cell_type": "code",
   "execution_count": null,
   "metadata": {},
   "outputs": [],
   "source": []
  }
 ],
 "metadata": {
  "kernelspec": {
   "display_name": "gpu_serl",
   "language": "python",
   "name": "python3"
  },
  "language_info": {
   "codemirror_mode": {
    "name": "ipython",
    "version": 3
   },
   "file_extension": ".py",
   "mimetype": "text/x-python",
   "name": "python",
   "nbconvert_exporter": "python",
   "pygments_lexer": "ipython3",
   "version": "3.10.14"
  }
 },
 "nbformat": 4,
 "nbformat_minor": 2
}
